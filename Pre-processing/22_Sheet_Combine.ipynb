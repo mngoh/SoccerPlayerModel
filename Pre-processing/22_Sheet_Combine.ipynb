{
 "cells": [
  {
   "cell_type": "markdown",
   "id": "3ad7126d",
   "metadata": {},
   "source": [
    "# Merge Sheets for 21 - 22 Season"
   ]
  },
  {
   "cell_type": "code",
   "execution_count": 40,
   "id": "8132a3e9",
   "metadata": {},
   "outputs": [],
   "source": [
    "# Load Libraries\n",
    "import pandas as pd \n",
    "from functools import reduce"
   ]
  },
  {
   "cell_type": "code",
   "execution_count": 41,
   "id": "215bcae9",
   "metadata": {},
   "outputs": [],
   "source": [
    "# SAVE OUT FLAG\n",
    "save = True"
   ]
  },
  {
   "cell_type": "code",
   "execution_count": 42,
   "id": "7dfcec8c",
   "metadata": {},
   "outputs": [
    {
     "name": "stderr",
     "output_type": "stream",
     "text": [
      "C:\\Users\\mngoh\\AppData\\Local\\Temp/ipykernel_12196/2036542981.py:21: FutureWarning: Passing 'suffixes' which cause duplicate columns {'Squad_x', 'Comp_x', '90s_x', 'Nation_x', 'Pos_x', 'Matches_x', 'Born_x', 'Rk_x', '-9999_x', 'Age_x'} in the result is deprecated and will raise a MergeError in a future version.\n",
      "  df_merged = reduce(lambda  left,right: pd.merge(left,right,on=['Player'],\n"
     ]
    }
   ],
   "source": [
    "# Load Data (22_goal_shot, 22_misc, 22_pass_type 22_passing 22_possesion 22_shooting 22_timing 22_standard)\n",
    "\n",
    "sheets = ['22_goal_shot', '22_misc', '22_pass_type' ,\n",
    "          '22_passing', '22_possesion', '22_shooting', '22_timing', '22_standard']\n",
    "\n",
    "df_name = '22_player_data.xlsx'\n",
    "\n",
    "# Read in DF for each sheet\n",
    "df1 = pd.read_excel(df_name, sheet_name = '22_goal_shot')\n",
    "df2 = pd.read_excel(df_name, sheet_name = '22_misc')\n",
    "df3 = pd.read_excel(df_name, sheet_name = '22_pass_type')\n",
    "df4 = pd.read_excel(df_name, sheet_name = '22_passing')\n",
    "df5 = pd.read_excel(df_name, sheet_name = '22_possesion')\n",
    "df6 = pd.read_excel(df_name, sheet_name = '22_shooting')\n",
    "df7 = pd.read_excel(df_name, sheet_name = '22_timing')\n",
    "df8 = pd.read_excel(df_name, sheet_name = '22_standard')\n",
    "\n",
    "names = [df1, df2, df3, df4, df5, df6, df8]\n",
    "\n",
    "# Merged DF\n",
    "df_merged = reduce(lambda  left,right: pd.merge(left,right,on=['Player'],\n",
    "                                            how='outer'), names)\n"
   ]
  },
  {
   "cell_type": "code",
   "execution_count": 43,
   "id": "88ceef89",
   "metadata": {},
   "outputs": [
    {
     "name": "stdout",
     "output_type": "stream",
     "text": [
      "Length Before: 21863\n",
      "Length After: 2786\n"
     ]
    }
   ],
   "source": [
    "# Drop Duplicate Players\n",
    "print('Length Before:' , len(df_merged))\n",
    "df_merged = df_merged.drop_duplicates(subset=['Player'], keep='last')\n",
    "print('Length After:' , len(df_merged))"
   ]
  },
  {
   "cell_type": "code",
   "execution_count": 44,
   "id": "07ad0b54",
   "metadata": {},
   "outputs": [],
   "source": [
    "vars_keep =  ['2CrdY','90s','Age','Ast_x','Att','Comp','CrdR_x','CrdY_x','Crs_x','CrsPA','Dead','Def','Dis',\n",
    "              'Dist','Drib','Fld_x','Fls','G+A-PK','GCA','G-PK','Int','Matches','Min','MP','Nation',\n",
    "              'Off_x','PassDead','PassLive','Player','Pos','Recov','SCA','Sh_x','SoT','Squad','Starts','Str',\n",
    "              'Succ','TklW','TotDist','Touches','Won',]\n",
    "# Keep only certain vars \n",
    "df_merged = df_merged[df_merged.columns.intersection(vars_keep)]"
   ]
  },
  {
   "cell_type": "code",
   "execution_count": 45,
   "id": "f6748223",
   "metadata": {},
   "outputs": [],
   "source": [
    "# To Excel File \n",
    "df_merged.to_csv('merged_data.csv')"
   ]
  }
 ],
 "metadata": {
  "kernelspec": {
   "display_name": "Python 3 (ipykernel)",
   "language": "python",
   "name": "python3"
  },
  "language_info": {
   "codemirror_mode": {
    "name": "ipython",
    "version": 3
   },
   "file_extension": ".py",
   "mimetype": "text/x-python",
   "name": "python",
   "nbconvert_exporter": "python",
   "pygments_lexer": "ipython3",
   "version": "3.9.7"
  }
 },
 "nbformat": 4,
 "nbformat_minor": 5
}
