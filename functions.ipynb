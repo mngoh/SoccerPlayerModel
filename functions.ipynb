{
 "cells": [
  {
   "attachments": {},
   "cell_type": "markdown",
   "id": "bb864667",
   "metadata": {},
   "source": [
    "# Functions"
   ]
  },
  {
   "cell_type": "code",
   "execution_count": 1,
   "id": "02a4f011",
   "metadata": {},
   "outputs": [],
   "source": [
    "#import Libraries \n",
    "import smtplib\n",
    "import matplotlib.pyplot as plt\n",
    "from matplotlib.pyplot import figure\n",
    "import numpy as np \n",
    "import pandas as pd\n",
    "from sklearn import metrics\n",
    "from sklearn.metrics import r2_score, mean_absolute_error, accuracy_score, mean_squared_error, make_scorer\n",
    "import seaborn as sns"
   ]
  },
  {
   "cell_type": "code",
   "execution_count": 2,
   "id": "7b1a6617",
   "metadata": {},
   "outputs": [],
   "source": [
    "# Graph Function\n",
    "def graphit(df):\n",
    "    num = df.select_dtypes(exclude=['object']).columns\n",
    "    for x in df[num]:\n",
    "        plt.hist(df[x])\n",
    "        plt.title(f'Distribution of {x} Variable')\n",
    "        plt.xlabel(f'{x}')\n",
    "        plt.ylabel('Frequency')\n",
    "        plt.show()\n",
    "    print('Done Graphing ')"
   ]
  },
  {
   "cell_type": "code",
   "execution_count": 3,
   "id": "6fe47933",
   "metadata": {},
   "outputs": [],
   "source": [
    "# Box Plot Function\n",
    "def box(df):\n",
    "    num = df.select_dtypes(exclude=['object']).columns\n",
    "    for x in df[num]:\n",
    "        plt.boxplot(df[x])\n",
    "        plt.title(f'Box Plot for {x} Variable')\n",
    "        plt.xlabel(f'{x}')\n",
    "        plt.show()\n",
    "    print('Done Graphing ')"
   ]
  },
  {
   "cell_type": "code",
   "execution_count": 4,
   "id": "a7e34fac",
   "metadata": {},
   "outputs": [],
   "source": [
    "# Model Scores\n",
    "def acc_score(y_test, y_pred):\n",
    "    print('MAE' , metrics.mean_absolute_error(y_test, y_pred).round(3))\n",
    "    print('MSE' , metrics.mean_squared_error(y_test, y_pred).round(3))\n",
    "    print('RMSE' ,np.sqrt(metrics.mean_squared_error(y_test,y_pred)).round(3))\n",
    "    print(\"R square \", r2_score(y_test,y_pred).round(3))\n",
    "    rmse = np.sqrt(metrics.mean_squared_error(y_test,y_pred)).round(3)\n",
    "    mse = metrics.mean_squared_error(y_test, y_pred).round(3)\n",
    "    r2 = r2_score(y_test,y_pred).round(3)\n",
    "    errors = abs(y_pred - y_test)\n",
    "    mape = 100 * (errors / y_test)\n",
    "    mae = metrics.mean_absolute_error(y_test, y_pred).round(3)\n",
    "    return mae, mse ,rmse, r2"
   ]
  },
  {
   "cell_type": "code",
   "execution_count": 5,
   "id": "0ad205fe",
   "metadata": {},
   "outputs": [],
   "source": [
    "# Plot Actuals VS Predicted \n",
    "def plot_actuals(y_test, y_pred, model_name = 'None'):  \n",
    "    # Plot Actuals VS Predicted \n",
    "    figure(figsize=(8,8), dpi=80)\n",
    "    fig, ax = plt.subplots()\n",
    "    sns.kdeplot(y_test, ax = ax, label = 'Actuals', color = 'red')\n",
    "    ax = sns.kdeplot(y_pred, label = 'Predicted', color = 'blue')\n",
    "    plt.title(f'Actual vs Fitted Values: {model_name}')\n",
    "    plt.legend()\n",
    "    plt.show()\n",
    "    plt.close()"
   ]
  },
  {
   "cell_type": "code",
   "execution_count": 6,
   "id": "adfbc853",
   "metadata": {},
   "outputs": [],
   "source": [
    "# Cap Outliers 2.0 \n",
    "def outlier_cap(df, lower_quant = .05, upper_quant = .95):\n",
    "    # Select the numeric columns\n",
    "    numeric_cols = df.select_dtypes(include=[\"int\", \"float\"]).columns\n",
    "    # Calculate the upper and lower bounds for each numeric column\n",
    "    upper_bounds = df[numeric_cols].quantile(upper_quant)\n",
    "    lower_bounds = df[numeric_cols].quantile(lower_quant)\n",
    "    # Cap the values at the upper and lower bounds\n",
    "    df[numeric_cols] = df[numeric_cols].clip(lower_bounds, upper_bounds, axis=1)\n",
    "    print('Done')\n",
    "    return df"
   ]
  }
 ],
 "metadata": {
  "kernelspec": {
   "display_name": "Python 3 (ipykernel)",
   "language": "python",
   "name": "python3"
  },
  "language_info": {
   "codemirror_mode": {
    "name": "ipython",
    "version": 3
   },
   "file_extension": ".py",
   "mimetype": "text/x-python",
   "name": "python",
   "nbconvert_exporter": "python",
   "pygments_lexer": "ipython3",
   "version": "3.9.7"
  }
 },
 "nbformat": 4,
 "nbformat_minor": 5
}
